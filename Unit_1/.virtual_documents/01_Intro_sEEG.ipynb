

















from pandas import read_csv
from numpy import asarray


# read prefiltered 20 sec segment

sr           = 1000

series_chars = '../Data/Pat1_Sz01.csv'

df2 = read_csv(series_chars)

data_np = df2.to_numpy()
data_prefiltered = data_np[:, 1:]

all_labels = df2.columns[1:]
    
all_labels_np = asarray(all_labels)

letter_list = list()

for new in all_labels:
    
    if new[0] not in letter_list:
        
        letter_list.append(new[0])


label_dict = dict()

for ind, letter in enumerate(all_labels):
    
    if letter[0] in label_dict.keys():
            pass

    else:
        label_dict[letter[0]] = [ind]   
        
        dict_ind = len(label_dict.keys())
        
        if letter[0] != all_labels[0][0]:
            previous_letter = letter_list[dict_ind - 2]
            label_dict[previous_letter].append(ind)
            
    if ind == len(all_labels)-1:  
        label_dict[letter[0]].append(ind+1)

label_letters = list(label_dict.keys())

label_dict





data_prefiltered.shape


from matplotlib.pyplot import subplots

fig, ax = subplots()

ax.plot(data_prefiltered);





def my_eeg_plot(data, factor):
    '''
    plot time series with offset
    '''
    from numpy import arange, linspace
    
    columns = data.shape[1]
    
    offset = arange(columns)
    
    fig, ax = subplots()
        
    ax.plot(data + offset*factor, c='gray')
    ax.set_yticks([])
    ax.set_xticks(linspace(0, data.shape[0], 3))
    ax.set_xticklabels(linspace(0, data.shape[0]//sr, 3))
    ax.set_xlabel("Time (seconds)")

    return fig, ax



my_eeg_plot(data_prefiltered[:, :31], 1000);












