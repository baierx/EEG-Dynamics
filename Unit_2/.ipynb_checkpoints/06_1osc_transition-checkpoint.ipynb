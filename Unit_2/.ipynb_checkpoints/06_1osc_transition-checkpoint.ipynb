{
 "cells": [
  {
   "cell_type": "markdown",
   "metadata": {},
   "source": [
    "(C) Gerold Baier, University College London, 2025"
   ]
  },
  {
   "cell_type": "markdown",
   "metadata": {},
   "source": [
    "# Transition to Oscillations in Two Coupled Variables\n"
   ]
  },
  {
   "cell_type": "markdown",
   "metadata": {
    "tags": []
   },
   "source": [
    "\n",
    "## Mathematical Model\n",
    "\n",
    "Single Variable, first-order differential equation\n",
    "\n",
    "The equation:\n",
    "\n",
    "$$ \\frac{dEx}{dt} = h_{ex} - Ex + c_1*tanh(Ex) - c_2*tanh(In) $$\n",
    "$$ \\frac{dIn}{dt} = h_{in} - In + c_3*tanh(Ex) - c_4*tanh(In) $$\n",
    "\n",
    "where $Ex$ and $In$ are variables that changes with time $t$, $h_{ex}$ and $c_i$ are model parameters, _tanh_ is the tangens hyperbolicus.\n",
    "\n",
    "For $c_2 = c_3 = 0$, the two variables are uncoupled and independent. \n",
    "\n",
    "The model dynamics can be characterised by scans of parameter h_ex. Here, we use a slow continuous change of this parameter to simulate spontaneous qualitative transitions of dynamics in the human EEG. \n"
   ]
  },
  {
   "cell_type": "markdown",
   "metadata": {},
   "source": [
    "## Import Functions"
   ]
  },
  {
   "cell_type": "code",
   "execution_count": 3,
   "metadata": {},
   "outputs": [],
   "source": [
    "from scipy.integrate import odeint\n",
    "from scipy.signal import find_peaks, butter, sosfilt\n",
    "\n",
    "from numpy import zeros, tanh, linspace, sqrt, fill_diagonal, ndarray\n",
    "from numpy import asarray, array, around, arange, flip, var\n",
    "from numpy.random import default_rng\n",
    "\n",
    "from matplotlib.pyplot import subplots\n"
   ]
  },
  {
   "cell_type": "markdown",
   "metadata": {},
   "source": [
    "## Model and Functions"
   ]
  },
  {
   "cell_type": "code",
   "execution_count": 6,
   "metadata": {},
   "outputs": [],
   "source": [
    "def sigmoid(u):\n",
    "    \n",
    "    return tanh(u)\n",
    "\n",
    "def single_oscillator(y, t, h_ex, h_in, pars):\n",
    "\n",
    "    tau_ex, tau_in, c_1, c_2, c_3, c_4 = pars\n",
    "\n",
    "    dydt = (\n",
    "        (h_ex - y[0] + c_1*sigmoid(y[0]) - c_2*sigmoid(y[1]))*tau_ex,\n",
    "        (h_in - y[1] + c_3*sigmoid(y[0]) - c_4*sigmoid(y[1]))*tau_in,\n",
    "       )\n",
    "\n",
    "    return dydt\n",
    "\n",
    "def single_oscillator_plus_driving(y, t, h_ex, h_in, pars, sr, time_stop, driving, driving_strength):\n",
    "\n",
    "    tau_ex, tau_in, c1, c2, c3, c4 = pars\n",
    "    \n",
    "    index = int(t*sr)\n",
    "    \n",
    "    if index >= time_stop*sr:\n",
    "    \n",
    "        dydt = zeros(2)\n",
    "        \n",
    "        return dydt\n",
    "    \n",
    "    h_ex_driven = h_ex + driving_strength*driving[index]\n",
    "\n",
    "    dydt = (\n",
    "        (h_ex_driven - y[0] + c1*sigmoid(y[0]) - c2*sigmoid(y[1]))*tau_ex,\n",
    "        (h_in        - y[1] + c3*sigmoid(y[0]) - c4*sigmoid(y[1]))*tau_in,\n",
    "   )\n",
    "\n",
    "    return dydt\n",
    "\n",
    "def single_oscillator_plus_driving_plus_noise(y, t, h_ex, h_in, pars, sr, time_stop, driving, driving_strength, random_data, random_strength):\n",
    "\n",
    "    tau_ex, tau_in, c1_ex, c2_ex, c3_in, c4_in = pars\n",
    "    \n",
    "    index = int(t*sr)\n",
    "    \n",
    "    if index >= time_stop*sr:\n",
    "\n",
    "        dydt = zeros(2)\n",
    "        \n",
    "        return dydt\n",
    "\n",
    "    h_ex_driven = h_ex + driving_strength*driving[index]\n",
    "\n",
    "    dydt = (\n",
    "        (h_ex_driven - y[0] + c1_ex*sigmoid(y[0]) - c2_ex*sigmoid(y[1]) + \n",
    "         random_strength*random_data[index, 0])*tau_ex,\n",
    "        (h_in        - y[1] + c3_in*sigmoid(y[0]) - c4_in*sigmoid(y[1]) + \n",
    "         random_strength*random_data[index, 1])*tau_in\n",
    "   )\n",
    "\n",
    "    return dydt\n",
    "\n",
    "   "
   ]
  },
  {
   "cell_type": "code",
   "execution_count": 8,
   "metadata": {},
   "outputs": [],
   "source": [
    "def plot_series(time, data, time_begin, time_end, sr):\n",
    "    \n",
    "    N = data.shape[1]//2\n",
    "    \n",
    "    name_vars = ('Ex', 'In')\n",
    "\n",
    "    no_vars = 2*N\n",
    "\n",
    "    fig, ax = subplots(ncols=2*N, figsize=(6, 4))\n",
    "\n",
    "    for ind in arange(no_vars):\n",
    "\n",
    "        ax[ind].plot(time[time_begin*sr:time_end*sr], data[time_begin*sr:time_end*sr, ind], linewidth=2, c='b')\n",
    "        ax[ind].set_xticks(linspace(0, time_end-time_begin, 5));\n",
    "        ax[ind].set_xticklabels(linspace(0, time_end-time_begin, 5));\n",
    "        ax[ind].set_xlabel('Time', fontsize=12);\n",
    "        ax[ind].set_ylabel(name_vars[ind], fontsize=12)\n",
    "        y_min, y_max = ax[ind].get_ylim()\n",
    "        ax[ind].set_yticks(linspace(y_min, y_max, 3));\n",
    "        ax[ind].set_yticklabels(around(linspace(y_min, y_max, 3),1), fontsize=14);\n",
    "    \n",
    "    fig.tight_layout()\n",
    "    \n",
    "    return fig, ax\n",
    "\n",
    "\n",
    "def plot_series_statespace(time, data, time_begin, time_end, sr):\n",
    "    \n",
    "    N = data.shape[1]//2\n",
    "    \n",
    "    name_vars = ('Ex', 'In')\n",
    "\n",
    "    no_vars = 2*N\n",
    "\n",
    "    fig, ax = subplots(ncols=2*N, figsize=(6, 4))\n",
    "\n",
    "    ax[0].plot(time[time_begin*sr:time_end*sr], data[time_begin*sr:time_end*sr, 0], linewidth=2, c='b')\n",
    "    ax[0].set_xticks(linspace(0, time_end-time_begin, 5));\n",
    "    ax[0].set_xticklabels(linspace(0, time_end-time_begin, 5));\n",
    "    ax[0].set_xlabel('Time', fontsize=12);\n",
    "    y_min, y_max = ax[0].get_ylim()\n",
    "    ax[0].set_yticks(linspace(y_min, y_max, 3));\n",
    "    ax[0].set_yticklabels(around(linspace(y_min, y_max, 3),1), fontsize=14);\n",
    "    ax[0].set_ylabel(name_vars[0], fontsize=12);\n",
    "\n",
    "    ax[1].plot(data[time_begin*sr:time_end*sr, 1], data[time_begin*sr:time_end*sr, 0], linewidth=2, c='b')\n",
    "    x_min, x_max = ax[1].get_xlim()\n",
    "    ax[1].set_xticks(linspace(x_min, x_max, 3));\n",
    "    ax[1].set_xticklabels(around(linspace(x_min, x_max, 3),1));\n",
    "    ax[1].set_xlabel(name_vars[1], fontsize=12);\n",
    "    ax[1].set_ylabel(name_vars[0], fontsize=12)\n",
    "    y_min, y_max = ax[1].get_ylim()\n",
    "    ax[1].set_yticks(linspace(y_min, y_max, 3));\n",
    "    ax[1].set_yticklabels(around(linspace(y_min, y_max, 3),1), fontsize=14);\n",
    "    ax[1].set_ylabel(name_vars[0], fontsize=12);\n",
    "\n",
    "    fig.tight_layout()\n",
    "    \n",
    "    return fig, ax"
   ]
  },
  {
   "cell_type": "code",
   "execution_count": 10,
   "metadata": {},
   "outputs": [],
   "source": [
    "def plot_bifdiagram(results_min_f, results_max_f, \n",
    "                    results_min_b, results_max_b,\n",
    "                    par_set):\n",
    "    \n",
    "    N = len(results_min_f)\n",
    "\n",
    "    fig, ax = subplots()\n",
    "\n",
    "    for xe, ye in zip(par_set, results_max_f[0]):\n",
    "\n",
    "        if not isinstance(ye, ndarray):\n",
    "            ax.scatter(xe, ye, c='r', s=5)\n",
    "        else:\n",
    "            ax.scatter([xe] * len(ye), ye, c='m', s=50, marker='x')\n",
    "\n",
    "    for xe, ye in zip(par_set, results_min_f[0]):\n",
    "\n",
    "        if not isinstance(ye, ndarray):\n",
    "            ax.scatter(xe, ye, c='r', s=5)\n",
    "        else:\n",
    "            ax.scatter([xe] * len(ye), ye, c='m', s=50, marker='x')\n",
    "\n",
    "    for xe, ye in zip(flip(par_set), results_max_b[0]):\n",
    "\n",
    "        if not isinstance(ye, ndarray):\n",
    "            ax.scatter(xe, ye, c='r', s=5)\n",
    "        else:\n",
    "            ax.scatter([xe] * len(ye), ye, c='b', s=20, marker='P')\n",
    "\n",
    "    for xe, ye in zip(flip(par_set), results_min_b[0]):\n",
    "\n",
    "        if not isinstance(ye, ndarray):\n",
    "            ax.scatter(xe, ye, c='r', s=5)\n",
    "        else:\n",
    "            ax.scatter([xe] * len(ye), ye, c='b', s=20, marker='P')\n",
    "\n",
    "    ax.set_xticks(linspace(par_min, par_max, 5));\n",
    "    ax.set_xticklabels(around(linspace(par_min, par_max, 5), 2), fontsize=16);\n",
    "    ax.set_xlabel('Parameter', fontsize=16)\n",
    "\n",
    "    ax.set_ylabel('Ex', fontsize=14)\n",
    "\n",
    "    y_min, y_max = ax.get_ylim()\n",
    "\n",
    "    ax.set_yticks(linspace(y_min, y_max, 3));\n",
    "    ax.set_yticklabels(around(linspace(y_min, y_max, 3),2), fontsize=14);\n",
    "\n",
    "\n",
    "    fig.tight_layout()\n",
    "    \n",
    "    return fig, ax\n"
   ]
  },
  {
   "cell_type": "markdown",
   "metadata": {},
   "source": [
    "## Time Series\n"
   ]
  },
  {
   "cell_type": "code",
   "execution_count": 13,
   "metadata": {},
   "outputs": [
    {
     "name": "stdout",
     "output_type": "stream",
     "text": [
      "End of run: [np.float64(-2.44), np.float64(-9.909)]\n",
      "\n"
     ]
    }
   ],
   "source": [
    "# Excitatory input parameter\n",
    "h_ex_0    = -4.5\n",
    "h_in_0    = -4\n",
    "\n",
    "# Supercritical Hopf parameters\n",
    "pars = (1, 1, 4, 6, 6, 0)\n",
    "# Bistability parameters\n",
    "# pars = (1, 1, 4, 1, 6, 0)\n",
    "\n",
    "# Initial conditions\n",
    "SEED = 123\n",
    "\n",
    "rng = default_rng()\n",
    "\n",
    "y_ini = rng.uniform(size=2)\n",
    "# y_ini = y[-1, :]\n",
    "\n",
    "# Time array\n",
    "time_stop = 30\n",
    "sr        = 1000\n",
    "time      = linspace(start=0, stop=time_stop, num=time_stop*sr)\n",
    "\n",
    "# Simulation\n",
    "y = odeint(func=single_oscillator, y0=y_ini, t=time, \n",
    "          args=(h_ex_0, h_in_0, pars), \n",
    "          hmax=0.1)\n",
    "\n",
    "# Show final values of all variables\n",
    "print('End of run:', list(around(y[-1,:],3)))\n",
    "print('')\n"
   ]
  },
  {
   "cell_type": "code",
   "execution_count": 15,
   "metadata": {},
   "outputs": [
    {
     "name": "stdout",
     "output_type": "stream",
     "text": [
      "Figs/SNIC_Timeseries_h_ex-4.5.png\n"
     ]
    },
    {
     "data": {
      "image/png": "[encoded data removed]",
      "text/plain": [
       "<Figure size 600x400 with 2 Axes>"
      ]
     },
     "metadata": {},
     "output_type": "display_data"
    }
   ],
   "source": [
    "time_begin, time_end = 0, time_stop\n",
    "\n",
    "fig, ax = plot_series_statespace(time, y, time_begin, time_end, sr)\n",
    "\n",
    "title_chars = 'Figs/SNIC_Timeseries_h_ex' + str(h_ex_0) + '.png'\n",
    "# fig.savefig(title_chars, format='png')\n",
    "print(title_chars)\n"
   ]
  },
  {
   "cell_type": "markdown",
   "metadata": {},
   "source": [
    "## Bifurcation Diagram"
   ]
  },
  {
   "cell_type": "code",
   "execution_count": 18,
   "metadata": {},
   "outputs": [
    {
     "name": "stdout",
     "output_type": "stream",
     "text": [
      "\n",
      "Scan complete!\n",
      "\n"
     ]
    }
   ],
   "source": [
    "# Initial conditions\n",
    "y_ini = y[-1, :]\n",
    "\n",
    "# Bifurcation parameter range\n",
    "steps = 50\n",
    "\n",
    "par_min, par_max = -5, 2\n",
    "\n",
    "par_set = linspace(par_min, par_max, steps)\n",
    "\n",
    "# Stop time\n",
    "time_stop = 500\n",
    "time = linspace(start=0, stop=time_stop, num=time_stop*sr)\n",
    "\n",
    "\n",
    "results_max_f      = dict()\n",
    "results_max_inds_f = dict()\n",
    "results_min_f      = dict()\n",
    "results_min_inds_f = dict()\n",
    "\n",
    "rows = time.size\n",
    "\n",
    "# Simulation \"forward\"\n",
    "for par in par_set:\n",
    "    \n",
    "    h_ex = par\n",
    "    \n",
    "    y_f = odeint(func=single_oscillator, y0=y_ini, t=time, \n",
    "             args=(h_ex, h_in_0, pars), \n",
    "             hmax=0.1)\n",
    " \n",
    "\n",
    "    for num, series in enumerate(y_f[rows//2:,:-1:2].T):\n",
    "                \n",
    "        if var(series) < 0.00005:\n",
    "            \n",
    "            if num not in results_max_f:\n",
    "                \n",
    "                results_max_f[num]      = [series[-1]]\n",
    "                results_max_inds_f[num] = [0]    \n",
    "                results_min_f[num]      = [series[-1]]\n",
    "                results_min_inds_f[num] = [0]    \n",
    "                \n",
    "            else:\n",
    "                results_max_f[num].append(series[-1])\n",
    "                results_max_inds_f[num].append(0)    \n",
    "                results_min_f[num].append(series[-1])\n",
    "                results_min_inds_f[num].append(0)               \n",
    "\n",
    "\n",
    "        else:\n",
    "            y_f_max_inds = find_peaks(series, distance=100)\n",
    "            y_f_maxs     = series[y_f_max_inds[0]]\n",
    "\n",
    "            y_f_min_inds = find_peaks(-series, distance=100)\n",
    "            y_f_mins     = series[y_f_min_inds[0]]\n",
    "\n",
    "            if num not in results_max_f:\n",
    "\n",
    "                results_max_f[num]      = [y_f_maxs]\n",
    "                results_max_inds_f[num] = [y_f_max_inds]\n",
    "                results_min_f[num]      = [y_f_mins]    \n",
    "                results_min_inds_f[num] = [y_f_min_inds]    \n",
    "\n",
    "            else:\n",
    "\n",
    "                results_max_f[num].append(y_f_maxs)\n",
    "                results_max_inds_f[num].append(y_f_max_inds)\n",
    "                results_min_f[num].append(y_f_mins)\n",
    "                results_min_inds_f[num].append(y_f_min_inds)\n",
    "\n",
    "    if par != par_set[-1]:\n",
    "        \n",
    "        y_ini = y_f[-1, :]\n",
    "\n",
    "\n",
    "results_max_b      = dict()\n",
    "results_max_inds_b = dict()\n",
    "results_min_b      = dict()\n",
    "results_min_inds_b = dict()\n",
    "\n",
    "# Simulation \"backward\"\n",
    "for par in flip(par_set):\n",
    "    \n",
    "    h_ex = par\n",
    "\n",
    "    y_b = odeint(func=single_oscillator, y0=y_ini, t=time, \n",
    "             args=(h_ex, h_in_0, pars), \n",
    "             hmax=0.1)\n",
    "\n",
    "\n",
    "    for num, series in enumerate(y_b[rows//2:,:-1:2].T):\n",
    "        \n",
    "        if var(series) < 0.00005:\n",
    "            \n",
    "            if num not in results_max_b:\n",
    "                \n",
    "                results_max_b[num]      = [series[-1]]\n",
    "                results_max_inds_b[num] = [0]    \n",
    "                results_min_b[num]      = [series[-1]]\n",
    "                results_min_inds_b[num] = [0]    \n",
    "                \n",
    "            else:\n",
    "                results_max_b[num].append(series[-1])\n",
    "                results_max_inds_b[num].append(0)    \n",
    "                results_min_b[num].append(series[-1])\n",
    "                results_min_inds_b[num].append(0)               \n",
    "\n",
    "\n",
    "        else:\n",
    "            y_b_max_inds = find_peaks(series, distance=100)\n",
    "            y_b_maxs     = series[y_b_max_inds[0]]\n",
    "\n",
    "            y_b_min_inds = find_peaks(-series, distance=100)\n",
    "            y_b_mins     = series[y_b_min_inds[0]]\n",
    "\n",
    "            if num not in results_max_b:\n",
    "\n",
    "                results_max_b[num]      = [y_b_maxs]\n",
    "                results_max_inds_b[num] = [y_b_max_inds]\n",
    "                results_min_b[num]      = [y_b_mins]    \n",
    "                results_min_inds_b[num] = [y_b_min_inds]    \n",
    "\n",
    "            else:\n",
    "\n",
    "                results_max_b[num].append(y_b_maxs)\n",
    "                results_max_inds_b[num].append(y_b_max_inds)\n",
    "                results_min_b[num].append(y_b_mins)\n",
    "                results_min_inds_b[num].append(y_b_min_inds)\n",
    "\n",
    "    y_ini = y_b[-1, :]\n",
    "\n",
    "print('')\n",
    "print('Scan complete!')\n",
    "print('')\n"
   ]
  },
  {
   "cell_type": "code",
   "execution_count": 20,
   "metadata": {},
   "outputs": [
    {
     "data": {
      "text/plain": [
       "'1osc_Bifs_h_ex, c_2=6.png'"
      ]
     },
     "execution_count": 20,
     "metadata": {},
     "output_type": "execute_result"
    },
    {
     "data": {
      "image/png": "[encoded data removed]",
      "text/plain": [
       "<Figure size 640x480 with 1 Axes>"
      ]
     },
     "metadata": {},
     "output_type": "display_data"
    }
   ],
   "source": [
    "# Plot\n",
    "fig, ax = plot_bifdiagram(results_min_f, results_max_f, \n",
    "                          results_min_b, results_max_b, par_set)\n",
    "\n",
    "\n",
    "ax.set_xlabel('h_ex, c_2=' + str(pars[3]), fontsize=12)\n",
    "\n",
    "title_chars = '1osc_Bifs' + '_h_ex, c_2=' + str(pars[3]) + '.png'\n",
    "# fig.savefig(title_chars, format='png')\n",
    "title_chars\n"
   ]
  },
  {
   "cell_type": "markdown",
   "metadata": {},
   "source": [
    "## Transition to oscillation\n"
   ]
  },
  {
   "cell_type": "code",
   "execution_count": 23,
   "metadata": {},
   "outputs": [
    {
     "name": "stdout",
     "output_type": "stream",
     "text": [
      "End of run: (500000, 2)\n",
      "\n"
     ]
    }
   ],
   "source": [
    "# Set Initial conditions:\n",
    "y_ini = y[-1, :]\n",
    "\n",
    "# Time array\n",
    "time_stop = 500\n",
    "time      = linspace(start=0, stop=time_stop, num=time_stop*sr)\n",
    "\n",
    "# Initial parameter value\n",
    "h_ex_0    = -4.5\n",
    "\n",
    "# Driving\n",
    "driving = linspace(0, 1, time.size)\n",
    "driving_strength = 1\n",
    "\n",
    "y = odeint(func=single_oscillator_plus_driving, y0=y_ini, t=time, \n",
    "              args=(h_ex_0, h_in_0, pars, sr, time_stop, driving, driving_strength), hmax=0.1)\n",
    "\n",
    "\n",
    "print('End of run:', y.shape)\n",
    "print('')\n"
   ]
  },
  {
   "cell_type": "code",
   "execution_count": 25,
   "metadata": {},
   "outputs": [
    {
     "name": "stdout",
     "output_type": "stream",
     "text": [
      "Figs/N=1/Onset_SNIC_h_ex.png\n"
     ]
    },
    {
     "data": {
      "image/png": "[encoded data removed]",
      "text/plain": [
       "<Figure size 600x400 with 2 Axes>"
      ]
     },
     "metadata": {},
     "output_type": "display_data"
    }
   ],
   "source": [
    "time_begin, time_end = 0, time_stop\n",
    "\n",
    "fig, ax = plot_series_statespace(time, y, time_begin, time_end, sr)\n",
    "\n",
    "if pars[1] == 1:\n",
    "    \n",
    "    title_chars = 'Figs/N=1/Onset_SNIC_h_ex.png'\n",
    "    \n",
    "elif pars[1] == 2:\n",
    "\n",
    "    title_chars = 'Figs/N=1/Onset_Homoclinic_h_ex.png'\n",
    "  \n",
    "# fig.savefig(title_chars, dpi=300, format='png', bbox_inches='tight')\n",
    "\n",
    "print(title_chars)"
   ]
  },
  {
   "cell_type": "markdown",
   "metadata": {},
   "source": [
    "## With added noise"
   ]
  },
  {
   "cell_type": "code",
   "execution_count": 28,
   "metadata": {},
   "outputs": [
    {
     "name": "stdout",
     "output_type": "stream",
     "text": [
      "End of run:\n",
      "\n"
     ]
    }
   ],
   "source": [
    "# Set Initial conditions:\n",
    "# y_ini = y[-1, :]\n",
    "\n",
    "# Time array\n",
    "time_stop = 50\n",
    "time      = linspace(start=0, stop=time_stop, num=time_stop*sr)\n",
    "\n",
    "# Initial parameter value\n",
    "h_ex_0    = -4.2\n",
    "\n",
    "# Driving\n",
    "driving = linspace(0, 1, time.size)\n",
    "driving_strength = 1.0\n",
    "\n",
    "# Noise\n",
    "SEED = 123\n",
    "\n",
    "rng = default_rng(SEED)\n",
    "\n",
    "random_data = rng.normal(size=(time.size, y.shape[1]))\n",
    "\n",
    "order, band_low, band_high = 5, 1, 10\n",
    "\n",
    "sos = butter(order, (band_low, band_high), btype='bandpass', fs=sr, output='sos')\n",
    "\n",
    "random_data_filtered = zeros((time.size, y.shape[1]))\n",
    "\n",
    "for index, column in enumerate(random_data.transpose()): \n",
    "    forward   = sosfilt(sos, column)\n",
    "    backwards = sosfilt(sos, forward[-1::-1])\n",
    "    random_data_filtered[:, index] = backwards[-1::-1]\n",
    "\n",
    "random_strength = 10\n",
    "\n",
    "# Simulation /Add noise arrays to params\n",
    "y = odeint(func=single_oscillator_plus_driving_plus_noise, y0=y_ini, t=time, \n",
    "          args=(h_ex_0, h_in_0, pars, sr, time_stop, driving, driving_strength, \n",
    "           random_data_filtered, random_strength), hmax=0.1)\n",
    "\n",
    "print('End of run:')\n",
    "print('')\n"
   ]
  },
  {
   "cell_type": "code",
   "execution_count": 29,
   "metadata": {},
   "outputs": [
    {
     "name": "stdout",
     "output_type": "stream",
     "text": [
      "Figs/N=1/Onset_SNIC_h_ex.png\n"
     ]
    },
    {
     "data": {
      "image/png": "[encoded data removed]",
      "text/plain": [
       "<Figure size 600x400 with 2 Axes>"
      ]
     },
     "metadata": {},
     "output_type": "display_data"
    }
   ],
   "source": [
    "time_begin, time_end = 0, time_stop\n",
    "\n",
    "fig, ax = plot_series_statespace(time, y, time_begin, time_end, sr)\n",
    "\n",
    "if pars[1] == 1:\n",
    "    \n",
    "    title_chars = 'Figs/N=1/Onset_SNIC_h_ex.png'\n",
    "    \n",
    "elif pars[1] == 2:\n",
    "\n",
    "    title_chars = 'Figs/N=1/Onset_Homoclinic_h_ex.png'\n",
    "  \n",
    "# fig.savefig(title_chars, dpi=300, format='png', bbox_inches='tight')\n",
    "\n",
    "print(title_chars)"
   ]
  },
  {
   "cell_type": "code",
   "execution_count": null,
   "metadata": {},
   "outputs": [],
   "source": []
  },
  {
   "cell_type": "markdown",
   "metadata": {},
   "source": [
    "# Try it Yourself\n",
    "\n",
    "Re-run the above code with these parameter settings:\n",
    "\n",
    "pars             $= (1.2, 0.1, 4, 6, 6, 0)$\n",
    "\n",
    "h_ex_0           $= 0.2$\n",
    "\n",
    "driving_strength $=-2$\n",
    "\n",
    "to simulate an onset with small fast oscillations that grow in amplitude. This is another common type of seizure onset in humans. \n",
    "\n"
   ]
  },
  {
   "cell_type": "markdown",
   "metadata": {},
   "source": [
    "# Notes on the Reading\n",
    "\n",
    "## A taxonomy of seizure dynamotypes, Maria Luisa Saggio et al\n",
    "\n",
    "In this paper, transitions to epileptic seizures as recorded in invasive EEG are classified according to a small number of bifurcations in two-variable dynamical systems. \n",
    "Seizure onset is considered as a transition from fixed point to oscillations and there are four types of such transitions as a function of changes in a single parameter. Saddle-node in invariant cycle (SNIC) lead to sudden onset of large amplitude slow frequency oscillations. Supercritical Hopf bifurcations results in small amplitude fast oscillations with increasing amplitude. Figure 1 is a schematic of all possible types of this low-dimensional approach. Appendix 1, page 29, gives clinical examples of seizure onsets and their interpretation according to dynmical systems theory. \n"
   ]
  }
 ],
 "metadata": {
  "kernelspec": {
   "display_name": "Python 3 (ipykernel)",
   "language": "python",
   "name": "python3"
  },
  "language_info": {
   "codemirror_mode": {
    "name": "ipython",
    "version": 3
   },
   "file_extension": ".py",
   "mimetype": "text/x-python",
   "name": "python",
   "nbconvert_exporter": "python",
   "pygments_lexer": "ipython3",
   "version": "3.12.2"
  },
  "toc-autonumbering": false,
  "widgets": {
   "state": {
    "5422d38f63604076b5b082e547280e48": {
     "views": [
      {
       "cell_index": 2
      }
     ]
    }
   },
   "version": "1.2.0"
  }
 },
 "nbformat": 4,
 "nbformat_minor": 4
}
