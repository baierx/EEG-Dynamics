{
 "cells": [
  {
   "cell_type": "markdown",
   "metadata": {},
   "source": [
    "(C) Gerold Baier, University College London, 2024"
   ]
  },
  {
   "cell_type": "markdown",
   "metadata": {},
   "source": [
    "# Oscillations in Two Coupled Variables\n"
   ]
  },
  {
   "cell_type": "markdown",
   "metadata": {
    "tags": []
   },
   "source": [
    "\n",
    "## Mathematical Model\n",
    "\n",
    "Single Variable, first-order differential equation\n",
    "\n",
    "The equation:\n",
    "\n",
    "$$ \\frac{dEx}{dt} = h_{ex} - Ex + c_1*tanh(Ex) - c_2*tanh(In) $$\n",
    "$$ \\frac{dIn}{dt} = h_{in} - In + c_3*tanh(Ex) - c_4*tanh(In) $$\n",
    "\n",
    "where $Ex$ and $In$ are variables that changes with time $t$, $h_{ex}$ and $c_i$ are model parameters, _tanh_ is the tangens hyperbolicus.\n",
    "\n",
    "The model dynamics can be characterised by scans of parameter h_ex.\n",
    "\n",
    "Note that for $c_2 = c_3 = 0$, the two variables are uncoupled and independent. We want to study the interaction between the two variables as a function of one of the coupling parameters, $c_2$.\n"
   ]
  },
  {
   "cell_type": "markdown",
   "metadata": {},
   "source": [
    "## Import Functions"
   ]
  },
  {
   "cell_type": "code",
   "execution_count": 1,
   "metadata": {},
   "outputs": [],
   "source": [
    "from scipy.integrate import odeint\n",
    "from scipy.signal import find_peaks\n",
    "\n",
    "from numpy import zeros, ones, tanh, mod, gradient, linspace, sign, log, meshgrid \n",
    "from numpy import sqrt, fill_diagonal, ndarray, amax, amin, where\n",
    "from numpy import asarray, array, around, arange, corrcoef, flip, var\n",
    "from numpy.random import uniform, normal, seed\n",
    "\n",
    "from matplotlib.pyplot import subplots, xticks, yticks, axes\n"
   ]
  },
  {
   "cell_type": "markdown",
   "metadata": {},
   "source": [
    "## Model and Functions"
   ]
  },
  {
   "cell_type": "code",
   "execution_count": 2,
   "metadata": {},
   "outputs": [],
   "source": [
    "def sigmoid(u):\n",
    "    \n",
    "    return tanh(u)\n",
    "\n",
    "def N_oscillators(y, t, h_ex, h_in, pars):\n",
    "\n",
    "    tau_ex, tau_in, c_1, c_2, c_3, c_4 = pars\n",
    "\n",
    "    dydt = (\n",
    "        (h_ex - y[0] + c_1*sigmoid(y[0]) - c_2*sigmoid(y[1]))*tau_ex,\n",
    "        (h_in - y[1] + c_3*sigmoid(y[0]) - c_4*sigmoid(y[1]))*tau_in,\n",
    "       )\n",
    "\n",
    "    return dydt\n"
   ]
  },
  {
   "cell_type": "code",
   "execution_count": 3,
   "metadata": {},
   "outputs": [],
   "source": [
    "def plot_series(time, data, time_begin, time_end, sr):\n",
    "    \n",
    "    N = data.shape[1]//2\n",
    "    \n",
    "    name_vars = ('Ex', 'In')\n",
    "\n",
    "    no_vars = 2*N\n",
    "\n",
    "    fig, ax = subplots(ncols=2*N, figsize=(6, 4))\n",
    "\n",
    "    for ind in arange(no_vars):\n",
    "\n",
    "        ax[ind].plot(time[time_begin*sr:time_end*sr], data[time_begin*sr:time_end*sr, ind], linewidth=2, c='b')\n",
    "        ax[ind].set_xticks(linspace(0, time_end-time_begin, 5));\n",
    "        ax[ind].set_xticklabels(linspace(0, time_end-time_begin, 5));\n",
    "        ax[ind].set_xlabel('Time', fontsize=12);\n",
    "        ax[ind].set_ylabel(name_vars[ind], fontsize=12)\n",
    "        y_min, y_max = ax[ind].get_ylim()\n",
    "        ax[ind].set_yticks(linspace(y_min, y_max, 3));\n",
    "        ax[ind].set_yticklabels(around(linspace(y_min, y_max, 3),1), fontsize=14);\n",
    "    \n",
    "    fig.tight_layout()\n",
    "    \n",
    "    return fig, ax\n",
    "\n",
    "\n",
    "def plot_state_space(time, data, time_begin, time_end, sr):\n",
    "    \n",
    "    N = data.shape[1]//2\n",
    "    \n",
    "    name_vars = ('Ex', 'In')\n",
    "\n",
    "    no_vars = 2*N\n",
    "\n",
    "    fig, ax = subplots(figsize=(6, 4))\n",
    "\n",
    "    ax.plot(data[time_begin*sr:time_end*sr, 1], data[time_begin*sr:time_end*sr, 0], linewidth=2, c='b')\n",
    "    # ax.set_xticks(linspace(0, time_end-time_begin, 5));\n",
    "    # ax.set_xticklabels(linspace(0, time_end-time_begin, 5));\n",
    "    ax.set_xlabel('In', fontsize=12);\n",
    "    ax.set_ylabel('Ex', fontsize=12)\n",
    "    y_min, y_max = ax.get_ylim()\n",
    "    x_min, x_max = ax.get_xlim()\n",
    "    ax.set_yticks(linspace(y_min, y_max, 3));\n",
    "    ax.set_yticklabels(around(linspace(y_min, y_max, 3),1), fontsize=14);\n",
    "    ax.set_xticks(linspace(x_min, x_max, 3));\n",
    "    ax.set_xticklabels(around(linspace(x_min, x_max, 3),1), fontsize=14);\n",
    "\n",
    "    fig.tight_layout()\n",
    "    \n",
    "    return fig, ax\n"
   ]
  },
  {
   "cell_type": "code",
   "execution_count": 4,
   "metadata": {},
   "outputs": [],
   "source": [
    "def run_bif_diagram(time_stop, sr, par_set, h_in, y_ini, pars):\n",
    "\n",
    "    time = linspace(start=0, stop=time_stop, num=time_stop*sr)\n",
    "    \n",
    "    results_max_f      = dict()\n",
    "    results_max_inds_f = dict()\n",
    "    results_min_f      = dict()\n",
    "    results_min_inds_f = dict()\n",
    "    \n",
    "    rows = time.size\n",
    "    \n",
    "    num = 0\n",
    "    # Simulation \"forward\"\n",
    "    for par in par_set:\n",
    "\n",
    "        h_ex = par\n",
    "\n",
    "        y_f = odeint(func=N_oscillators, y0=y_ini, t=time, \n",
    "                 args=(h_ex, h_in, pars), \n",
    "                 hmax=0.1)\n",
    "     \n",
    "        for num, series in enumerate(y_f[rows//2:,:-1:2].T):\n",
    "                    \n",
    "            if var(series) < 0.00005:\n",
    "                \n",
    "                if num not in results_max_f:\n",
    "                    \n",
    "                    results_max_f[num]      = [series[-1]]\n",
    "                    results_max_inds_f[num] = [0]    \n",
    "                    results_min_f[num]      = [series[-1]]\n",
    "                    results_min_inds_f[num] = [0]    \n",
    "                    \n",
    "                else:\n",
    "                    results_max_f[num].append(series[-1])\n",
    "                    results_max_inds_f[num].append(0)    \n",
    "                    results_min_f[num].append(series[-1])\n",
    "                    results_min_inds_f[num].append(0)               \n",
    "    \n",
    "    \n",
    "            else:\n",
    "                y_f_max_inds = find_peaks(series, distance=100)\n",
    "                y_f_maxs     = series[y_f_max_inds[0]]\n",
    "    \n",
    "                y_f_min_inds = find_peaks(-series, distance=100)\n",
    "                y_f_mins     = series[y_f_min_inds[0]]\n",
    "    \n",
    "                if num not in results_max_f:\n",
    "    \n",
    "                    results_max_f[num]      = [y_f_maxs]\n",
    "                    results_max_inds_f[num] = [y_f_max_inds]\n",
    "                    results_min_f[num]      = [y_f_mins]    \n",
    "                    results_min_inds_f[num] = [y_f_min_inds]    \n",
    "    \n",
    "                else:\n",
    "    \n",
    "                    results_max_f[num].append(y_f_maxs)\n",
    "                    results_max_inds_f[num].append(y_f_max_inds)\n",
    "                    results_min_f[num].append(y_f_mins)\n",
    "                    results_min_inds_f[num].append(y_f_min_inds)\n",
    "    \n",
    "        if par != par_set[-1]:\n",
    "            \n",
    "            y_ini = y_f[-1, :]\n",
    "        \n",
    "    \n",
    "    results_max_b      = dict()\n",
    "    results_max_inds_b = dict()\n",
    "    results_min_b      = dict()\n",
    "    results_min_inds_b = dict()\n",
    "    \n",
    "    \n",
    "    # Simulation \"backward\"\n",
    "    for par in flip(par_set):\n",
    "\n",
    "        h_ex = par\n",
    "        \n",
    "        y_b = odeint(func=N_oscillators, y0=y_ini, t=time, \n",
    "                 args=(h_ex, h_in, pars), \n",
    "                 hmax=0.1)\n",
    "    \n",
    "        for num, series in enumerate(y_b[rows//2:,:-1:2].T):\n",
    "            \n",
    "            if var(series) < 0.00005:\n",
    "                \n",
    "                if num not in results_max_b:\n",
    "                    \n",
    "                    results_max_b[num]      = [series[-1]]\n",
    "                    results_max_inds_b[num] = [0]    \n",
    "                    results_min_b[num]      = [series[-1]]\n",
    "                    results_min_inds_b[num] = [0]    \n",
    "                    \n",
    "                else:\n",
    "                    results_max_b[num].append(series[-1])\n",
    "                    results_max_inds_b[num].append(0)    \n",
    "                    results_min_b[num].append(series[-1])\n",
    "                    results_min_inds_b[num].append(0)               \n",
    "    \n",
    "    \n",
    "            else:\n",
    "                y_b_max_inds = find_peaks(series, distance=100)\n",
    "                y_b_maxs     = series[y_b_max_inds[0]]\n",
    "    \n",
    "                y_b_min_inds = find_peaks(-series, distance=100)\n",
    "                y_b_mins     = series[y_b_min_inds[0]]\n",
    "    \n",
    "                if num not in results_max_b:\n",
    "    \n",
    "                    results_max_b[num]      = [y_b_maxs]\n",
    "                    results_max_inds_b[num] = [y_b_max_inds]\n",
    "                    results_min_b[num]      = [y_b_mins]    \n",
    "                    results_min_inds_b[num] = [y_b_min_inds]    \n",
    "    \n",
    "                else:\n",
    "    \n",
    "                    results_max_b[num].append(y_b_maxs)\n",
    "                    results_max_inds_b[num].append(y_b_max_inds)\n",
    "                    results_min_b[num].append(y_b_mins)\n",
    "                    results_min_inds_b[num].append(y_b_min_inds)\n",
    "        \n",
    "        # y_ini = y_b[-1, :]\n",
    "    \n",
    "    return results_min_f, results_max_f, results_min_b, results_max_b\n",
    "\n",
    "\n",
    "def plot_bifdiagram(results_min_f, results_max_f, \n",
    "                    results_min_b, results_max_b,\n",
    "                    par_set):\n",
    "    \n",
    "    N = len(results_min_f)\n",
    "\n",
    "    fig, ax = subplots()\n",
    "\n",
    "    for xe, ye in zip(par_set, results_max_f[0]):\n",
    "\n",
    "        if not isinstance(ye, ndarray):\n",
    "            ax.scatter(xe, ye, c='r', s=5)\n",
    "        else:\n",
    "            ax.scatter([xe] * len(ye), ye, c='m', s=50, marker='x')\n",
    "\n",
    "    for xe, ye in zip(par_set, results_min_f[0]):\n",
    "\n",
    "        if not isinstance(ye, ndarray):\n",
    "            ax.scatter(xe, ye, c='r', s=5)\n",
    "        else:\n",
    "            ax.scatter([xe] * len(ye), ye, c='m', s=50, marker='x')\n",
    "\n",
    "    for xe, ye in zip(flip(par_set), results_max_b[0]):\n",
    "\n",
    "        if not isinstance(ye, ndarray):\n",
    "            ax.scatter(xe, ye, c='b', s=5)\n",
    "        else:\n",
    "            ax.scatter([xe] * len(ye), ye, c='b', s=20, marker='P')\n",
    "\n",
    "    for xe, ye in zip(flip(par_set), results_min_b[0]):\n",
    "\n",
    "        if not isinstance(ye, ndarray):\n",
    "            ax.scatter(xe, ye, c='b', s=5)\n",
    "        else:\n",
    "            ax.scatter([xe] * len(ye), ye, c='b', s=20, marker='P')\n",
    "\n",
    "    ax.set_xticks(linspace(par_min, par_max, 5));\n",
    "    ax.set_xticklabels(around(linspace(par_min, par_max, 5), 2), fontsize=16);\n",
    "    ax.set_xlabel('Parameter', fontsize=16)\n",
    "\n",
    "    ax.set_ylabel('Ex', fontsize=14)\n",
    "\n",
    "    y_min, y_max = ax.get_ylim()\n",
    "\n",
    "    ax.set_yticks(linspace(y_min, y_max, 3));\n",
    "    ax.set_yticklabels(around(linspace(y_min, y_max, 3),2), fontsize=14);\n",
    "\n",
    "\n",
    "    fig.tight_layout()\n",
    "    \n",
    "    return fig, ax\n"
   ]
  },
  {
   "cell_type": "markdown",
   "metadata": {},
   "source": [
    "## Time Series\n"
   ]
  },
  {
   "cell_type": "code",
   "execution_count": 25,
   "metadata": {},
   "outputs": [
    {
     "name": "stdout",
     "output_type": "stream",
     "text": [
      "End of run: [-0.237, -0.502]\n",
      "\n"
     ]
    }
   ],
   "source": [
    "# Excitatory input parameter\n",
    "h_ex_0    = -2.5\n",
    "h_in_0    = -4\n",
    "\n",
    "# Supercritical Hopf parameters\n",
    "pars = (1, 1, 4, 6, 6, 0)\n",
    "# Bistability parameters\n",
    "# pars = (1, 1, 4, 1, 6, 0)\n",
    "\n",
    "# Initial conditions\n",
    "seed(1108)\n",
    "y_ini = uniform(size=2)\n",
    "# y_ini = y[-1, :]\n",
    "\n",
    "# Time array\n",
    "time_stop = 10\n",
    "sr        = 1000\n",
    "time      = linspace(start=0, stop=time_stop, num=time_stop*sr)\n",
    "\n",
    "# Simulation\n",
    "y = odeint(func=N_oscillators, y0=y_ini, t=time, \n",
    "          args=(h_ex_0, h_in_0, pars), \n",
    "          hmax=0.1)\n",
    "\n",
    "# Show final values of all variables\n",
    "print('End of run:', list(around(y[-1,:],3)))\n",
    "print('')\n"
   ]
  },
  {
   "cell_type": "code",
   "execution_count": 26,
   "metadata": {},
   "outputs": [
    {
     "name": "stdout",
     "output_type": "stream",
     "text": [
      "Figs/SuperHopf_Timeseries_h_ex-2.5.png\n"
     ]
    },
    {
     "data": {
      "image/png": "[encoded data removed]",
      "text/plain": [
       "<Figure size 600x400 with 2 Axes>"
      ]
     },
     "metadata": {},
     "output_type": "display_data"
    }
   ],
   "source": [
    "time_begin, time_end = 0, time_stop\n",
    "\n",
    "fig, ax = plot_series(time, y, time_begin, time_end, sr)\n",
    "\n",
    "title_chars = 'Figs/SuperHopf_Timeseries_h_ex' + str(h_ex_0) + '.png'\n",
    "# fig.savefig(title_chars, format='png')\n",
    "print(title_chars)\n"
   ]
  },
  {
   "cell_type": "markdown",
   "metadata": {},
   "source": [
    "## Bifurcation Diagram"
   ]
  },
  {
   "cell_type": "code",
   "execution_count": 35,
   "metadata": {},
   "outputs": [
    {
     "name": "stdout",
     "output_type": "stream",
     "text": [
      "Scan complete!\n",
      "\n"
     ]
    }
   ],
   "source": [
    "# Initial conditions\n",
    "y_ini = y[-1, :]\n",
    "\n",
    "# Bifurcation parameter range\n",
    "steps = 50\n",
    "par_min, par_max = -5, 5\n",
    "\n",
    "par_set = linspace(par_min, par_max, steps)\n",
    "\n",
    "# Stop time\n",
    "time_stop = 100\n",
    "\n",
    "results_min_f, results_max_f, results_min_b, results_max_b = run_bif_diagram(time_stop, sr, par_set, h_in_0, y_ini, pars)\n",
    "\n",
    "print('Scan complete!')\n",
    "print('')\n"
   ]
  },
  {
   "cell_type": "code",
   "execution_count": 36,
   "metadata": {},
   "outputs": [
    {
     "data": {
      "text/plain": [
       "'2Var_Bifs_h_ex, c_2=6.png'"
      ]
     },
     "execution_count": 36,
     "metadata": {},
     "output_type": "execute_result"
    },
    {
     "data": {
      "image/png": "[encoded data removed]",
      "text/plain": [
       "<Figure size 640x480 with 1 Axes>"
      ]
     },
     "metadata": {},
     "output_type": "display_data"
    }
   ],
   "source": [
    "# Plot\n",
    "fig, ax = plot_bifdiagram(results_min_f, results_max_f, \n",
    "                          results_min_b, results_max_b, par_set)\n",
    "\n",
    "\n",
    "ax.set_xlabel('h_ex, c_2=' + str(pars[3]), fontsize=12)\n",
    "\n",
    "title_chars = '2Var_Bifs' + '_h_ex, c_2=' + str(pars[3]) + '.png'\n",
    "# fig.savefig(title_chars, format='png')\n",
    "title_chars\n"
   ]
  },
  {
   "cell_type": "markdown",
   "metadata": {},
   "source": [
    "The result for $c_2 = 6$ involves a SNIC bifurcation (saddle-node on invariant cycle) and a supercritial Hopf bifurcation (real-part of complex pair of eigenvalues of the Jacobian passing through zero). SNIC oscillations are large and slow, Hopf oscillations are sinusoidal and have a characteristic increase in amplitude as the parameter moves away from the bifurcartion point.  "
   ]
  },
  {
   "cell_type": "markdown",
   "metadata": {},
   "source": [
    "# New Time Series"
   ]
  },
  {
   "cell_type": "code",
   "execution_count": 41,
   "metadata": {},
   "outputs": [
    {
     "name": "stdout",
     "output_type": "stream",
     "text": [
      "End of run: [-1.861, -9.717]\n",
      "\n"
     ]
    }
   ],
   "source": [
    "# Excitatory input parameter\n",
    "h_ex_0    = -4.05 # Excitable at -4.05, small limit cycle at -0.6\n",
    "h_in_0    = -4\n",
    "\n",
    "# Supercritical Hopf parameters\n",
    "pars = (1, 1, 4, 6, 6, 0)\n",
    "# Bistability parameters\n",
    "# pars = (1, 1, 4, 1, 6, 0)\n",
    "\n",
    "# Initial conditions\n",
    "seed(1108)\n",
    "y_ini = uniform(size=2)\n",
    "# y_ini = y[-1, :]\n",
    "\n",
    "# Time array\n",
    "time_stop = 100\n",
    "sr        = 1000\n",
    "time      = linspace(start=0, stop=time_stop, num=time_stop*sr)\n",
    "\n",
    "# Simulation\n",
    "y = odeint(func=N_oscillators, y0=y_ini, t=time, \n",
    "          args=(h_ex_0, h_in_0, pars), \n",
    "          hmax=0.1)\n",
    "\n",
    "# Show final values of all variables\n",
    "print('End of run:', list(around(y[-1,:],3)))\n",
    "print('')\n"
   ]
  },
  {
   "cell_type": "code",
   "execution_count": 42,
   "metadata": {},
   "outputs": [
    {
     "name": "stdout",
     "output_type": "stream",
     "text": [
      "Figs/SuperHopf_Timeseries_h_ex-4.05.png\n"
     ]
    },
    {
     "data": {
      "image/png": "[encoded data removed]",
      "text/plain": [
       "<Figure size 600x400 with 2 Axes>"
      ]
     },
     "metadata": {},
     "output_type": "display_data"
    }
   ],
   "source": [
    "time_begin, time_end = 0, time_stop\n",
    "\n",
    "fig, ax = plot_series(time, y, time_begin, time_end, sr)\n",
    "\n",
    "title_chars = 'Figs/SuperHopf_Timeseries_h_ex' + str(h_ex_0) + '.png'\n",
    "# fig.savefig(title_chars, format='png')\n",
    "print(title_chars)\n"
   ]
  },
  {
   "cell_type": "markdown",
   "metadata": {},
   "source": [
    "# State Space"
   ]
  },
  {
   "cell_type": "code",
   "execution_count": 43,
   "metadata": {},
   "outputs": [
    {
     "name": "stdout",
     "output_type": "stream",
     "text": [
      "Figs/SuperHopf_Timeseries_h_ex-4.05.png\n"
     ]
    },
    {
     "data": {
      "image/png": "[encoded data removed]",
      "text/plain": [
       "<Figure size 600x400 with 1 Axes>"
      ]
     },
     "metadata": {},
     "output_type": "display_data"
    }
   ],
   "source": [
    "time_begin, time_end = 0, time_stop\n",
    "\n",
    "fig, ax = plot_state_space(time, y, time_begin, time_end, sr)\n",
    "\n",
    "title_chars = 'Figs/SuperHopf_Timeseries_h_ex' + str(h_ex_0) + '.png'\n",
    "# fig.savefig(title_chars, format='png')\n",
    "print(title_chars)"
   ]
  },
  {
   "cell_type": "markdown",
   "metadata": {},
   "source": [
    "# Conclusion\n",
    "\n",
    "- Coupling between two variables can either retain the bistability (it may exist in any dimension).\n",
    "- Time-dependent fluctuations are possible with external forcing.\n",
    "- Amplitude and frequency of oscillations depends on parameter settings.\n",
    "- As a model of (local) invasive EEG, mesoscopic fluctations self-organise depending on context.\n"
   ]
  },
  {
   "cell_type": "markdown",
   "metadata": {},
   "source": [
    "# Try it Yourself\n",
    "\n",
    "Re-run the above code with these parameter settings:\n",
    "\n",
    "$pars = (1.2, 0.1, 4, 6, 6, 0)$\n",
    "\n",
    "Here, the time constants have been made unequal. The excitatory population is now operating at a faster rate compared to the slow population. This leads to a disappearance of the supercritical Hopf bifurcation. \n"
   ]
  },
  {
   "cell_type": "markdown",
   "metadata": {},
   "source": [
    "# Notes on the Reading\n",
    "\n",
    "## Equilibrium by E. Itzikevich\n",
    "\n",
    "This tutorial introduces the formal treatment of the concept of __State__ in dynamical systems. It uses linear perturbation theory and shows how states and state transitions can be derived from the eigenvalues of the Jabian matrix of a system of coupled ordinary differential equations. \n",
    "\n",
    "A similar treatment can be done on a linearised version of a matrix around a limit cycle. This is the Floquet theory. We can thus expect, oscillatory solutions (as the ones above) to also become unstable and leading to even more complex solutions. \n",
    "\n",
    "## The Dynamic Brain: From Spiking Neurons to Neural Masses and Cortical Fields, G Deco et al, and K Friston\n",
    "\n",
    "This review summarises the reasoning why mesoscopic (large-scale) recordings like the sEEG can be modelled with a comparatively small number of collective variables. This helpt to bypass the need to consider every neuron in the brain or a specific brain area in order to describe the clinical (or experimental) findings. It shows how the mean field approximation is used to derive simple ODE models (page 7, Neural Modes and Masses) which allow a reasonable good description, specifically of pathological findings in the EEG. \n",
    "\n"
   ]
  },
  {
   "cell_type": "code",
   "execution_count": null,
   "metadata": {},
   "outputs": [],
   "source": []
  }
 ],
 "metadata": {
  "kernelspec": {
   "display_name": "Python 3 (ipykernel)",
   "language": "python",
   "name": "python3"
  },
  "language_info": {
   "codemirror_mode": {
    "name": "ipython",
    "version": 3
   },
   "file_extension": ".py",
   "mimetype": "text/x-python",
   "name": "python",
   "nbconvert_exporter": "python",
   "pygments_lexer": "ipython3",
   "version": "3.11.6"
  },
  "toc-autonumbering": false,
  "widgets": {
   "state": {
    "5422d38f63604076b5b082e547280e48": {
     "views": [
      {
       "cell_index": 2
      }
     ]
    }
   },
   "version": "1.2.0"
  }
 },
 "nbformat": 4,
 "nbformat_minor": 4
}
